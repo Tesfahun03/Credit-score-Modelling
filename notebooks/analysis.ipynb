{
 "cells": [
  {
   "cell_type": "code",
   "execution_count": 2,
   "metadata": {},
   "outputs": [],
   "source": [
    "import pandas as pd\n",
    "import numpy as np\n",
    "import matplotlib.pyplot as plt\n"
   ]
  },
  {
   "cell_type": "code",
   "execution_count": 3,
   "metadata": {},
   "outputs": [],
   "source": [
    "import sys, os\n",
    "sys.path.append(os.path.abspath('..'))"
   ]
  },
  {
   "cell_type": "code",
   "execution_count": 4,
   "metadata": {},
   "outputs": [],
   "source": [
    "%load_ext autoreload\n",
    "%autoreload 2"
   ]
  },
  {
   "cell_type": "code",
   "execution_count": 5,
   "metadata": {},
   "outputs": [
    {
     "name": "stderr",
     "output_type": "stream",
     "text": [
      "INFO:root:Creating the AggregateFeature class\n",
      "INFO:root:Creating the ExtractFeature class and initialize data\n"
     ]
    }
   ],
   "source": [
    "from src.feature_engineering import calculate_rfms\n",
    "from src.clustering import cluster_customers\n",
    "from src.woe_binning import calculate_woe, apply_woe_binning"
   ]
  },
  {
   "cell_type": "code",
   "execution_count": 6,
   "metadata": {},
   "outputs": [],
   "source": [
    "df = pd.read_csv('../data/processed_data.csv')"
   ]
  },
  {
   "cell_type": "code",
   "execution_count": 9,
   "metadata": {},
   "outputs": [
    {
     "name": "stderr",
     "output_type": "stream",
     "text": [
      "INFO:root:Creating the AggregateFeature class\n",
      "INFO:root:Creating the ExtractFeature class and initialize data\n"
     ]
    }
   ],
   "source": [
    "# Calculate RFMS features\n",
    "rfms = calculate_rfms(df)"
   ]
  },
  {
   "cell_type": "code",
   "execution_count": 14,
   "metadata": {},
   "outputs": [],
   "source": [
    "rfms = cluster_customers(rfms)"
   ]
  },
  {
   "cell_type": "code",
   "execution_count": 15,
   "metadata": {},
   "outputs": [
    {
     "name": "stderr",
     "output_type": "stream",
     "text": [
      "c:\\Users\\Temp\\Desktop\\KAI-Projects\\Credit-score-Modelling\\src\\woe_binning.py:11: FutureWarning: The default of observed=False is deprecated and will be changed to True in a future version of pandas. Pass observed=False to retain current behavior or observed=True to adopt the future default and silence this warning.\n",
      "  'Good': df[target].eq('Good').groupby(bins).sum(),\n",
      "c:\\Users\\Temp\\Desktop\\KAI-Projects\\Credit-score-Modelling\\src\\woe_binning.py:12: FutureWarning: The default of observed=False is deprecated and will be changed to True in a future version of pandas. Pass observed=False to retain current behavior or observed=True to adopt the future default and silence this warning.\n",
      "  'Bad': df[target].eq('Bad').groupby(bins).sum()\n",
      "c:\\Users\\Temp\\Desktop\\KAI-Projects\\Credit-score-Modelling\\src\\woe_binning.py:11: FutureWarning: The default of observed=False is deprecated and will be changed to True in a future version of pandas. Pass observed=False to retain current behavior or observed=True to adopt the future default and silence this warning.\n",
      "  'Good': df[target].eq('Good').groupby(bins).sum(),\n",
      "c:\\Users\\Temp\\Desktop\\KAI-Projects\\Credit-score-Modelling\\src\\woe_binning.py:12: FutureWarning: The default of observed=False is deprecated and will be changed to True in a future version of pandas. Pass observed=False to retain current behavior or observed=True to adopt the future default and silence this warning.\n",
      "  'Bad': df[target].eq('Bad').groupby(bins).sum()\n",
      "c:\\Users\\Temp\\Desktop\\KAI-Projects\\Credit-score-Modelling\\src\\woe_binning.py:9: RuntimeWarning: '<' not supported between instances of 'pandas._libs.interval.Interval' and 'int', sort order is undefined for incomparable objects.\n",
      "  bin_data = pd.DataFrame({\n",
      "c:\\Users\\Temp\\Desktop\\KAI-Projects\\Credit-score-Modelling\\src\\woe_binning.py:11: FutureWarning: The default of observed=False is deprecated and will be changed to True in a future version of pandas. Pass observed=False to retain current behavior or observed=True to adopt the future default and silence this warning.\n",
      "  'Good': df[target].eq('Good').groupby(bins).sum(),\n",
      "c:\\Users\\Temp\\Desktop\\KAI-Projects\\Credit-score-Modelling\\src\\woe_binning.py:12: FutureWarning: The default of observed=False is deprecated and will be changed to True in a future version of pandas. Pass observed=False to retain current behavior or observed=True to adopt the future default and silence this warning.\n",
      "  'Bad': df[target].eq('Bad').groupby(bins).sum()\n",
      "c:\\Users\\Temp\\Desktop\\KAI-Projects\\Credit-score-Modelling\\src\\woe_binning.py:9: RuntimeWarning: '<' not supported between instances of 'pandas._libs.interval.Interval' and 'int', sort order is undefined for incomparable objects.\n",
      "  bin_data = pd.DataFrame({\n",
      "c:\\Users\\Temp\\Desktop\\KAI-Projects\\Credit-score-Modelling\\src\\woe_binning.py:11: FutureWarning: The default of observed=False is deprecated and will be changed to True in a future version of pandas. Pass observed=False to retain current behavior or observed=True to adopt the future default and silence this warning.\n",
      "  'Good': df[target].eq('Good').groupby(bins).sum(),\n",
      "c:\\Users\\Temp\\Desktop\\KAI-Projects\\Credit-score-Modelling\\src\\woe_binning.py:12: FutureWarning: The default of observed=False is deprecated and will be changed to True in a future version of pandas. Pass observed=False to retain current behavior or observed=True to adopt the future default and silence this warning.\n",
      "  'Bad': df[target].eq('Bad').groupby(bins).sum()\n",
      "c:\\Users\\Temp\\Desktop\\KAI-Projects\\Credit-score-Modelling\\src\\woe_binning.py:9: RuntimeWarning: '<' not supported between instances of 'pandas._libs.interval.Interval' and 'int', sort order is undefined for incomparable objects.\n",
      "  bin_data = pd.DataFrame({\n"
     ]
    }
   ],
   "source": [
    "# Perform WoE binning\n",
    "woe_results = apply_woe_binning(rfms, target='Label', features=['Recency', 'Frequency', 'Monetary', 'Stability'])"
   ]
  },
  {
   "cell_type": "code",
   "execution_count": 16,
   "metadata": {},
   "outputs": [
    {
     "name": "stdout",
     "output_type": "stream",
     "text": [
      "        CustomerId  Recency  Frequency  Monetary    Stability  Cluster Label\n",
      "0     CustomerId_1    20116          1     10000     0.000000        0  Good\n",
      "1    CustomerId_10    20116          1     10000     0.000000        0  Good\n",
      "2  CustomerId_1001    20116          5     30400  4100.243895        0  Good\n",
      "3  CustomerId_1002    20116         11      4775   518.805446        0  Good\n",
      "4  CustomerId_1003    20116          6     32000  3945.461528        0  Good\n",
      "      Bin  Good  Bad  Total  Good_Pct  Bad_Pct  WoE\n",
      "0     NaN   NaN  NaN    NaN       NaN      NaN  NaN\n",
      "1     NaN   NaN  NaN    NaN       NaN      NaN  NaN\n",
      "2     NaN   NaN  NaN    NaN       NaN      NaN  NaN\n",
      "3     NaN   NaN  NaN    NaN       NaN      NaN  NaN\n",
      "4     NaN   NaN  NaN    NaN       NaN      NaN  NaN\n",
      "...   ...   ...  ...    ...       ...      ...  ...\n",
      "3737  NaN   NaN  NaN    NaN       NaN      NaN  NaN\n",
      "3738  NaN   NaN  NaN    NaN       NaN      NaN  NaN\n",
      "3739  NaN   NaN  NaN    NaN       NaN      NaN  NaN\n",
      "3740  NaN   NaN  NaN    NaN       NaN      NaN  NaN\n",
      "3741  NaN   NaN  NaN    NaN       NaN      NaN  NaN\n",
      "\n",
      "[3742 rows x 7 columns]\n"
     ]
    }
   ],
   "source": [
    "print(rfms.head())\n",
    "print(woe_results['Recency'])"
   ]
  },
  {
   "cell_type": "code",
   "execution_count": 17,
   "metadata": {},
   "outputs": [
    {
     "data": {
      "text/html": [
       "<div>\n",
       "<style scoped>\n",
       "    .dataframe tbody tr th:only-of-type {\n",
       "        vertical-align: middle;\n",
       "    }\n",
       "\n",
       "    .dataframe tbody tr th {\n",
       "        vertical-align: top;\n",
       "    }\n",
       "\n",
       "    .dataframe thead th {\n",
       "        text-align: right;\n",
       "    }\n",
       "</style>\n",
       "<table border=\"1\" class=\"dataframe\">\n",
       "  <thead>\n",
       "    <tr style=\"text-align: right;\">\n",
       "      <th></th>\n",
       "      <th>TransactionId</th>\n",
       "      <th>CustomerId</th>\n",
       "      <th>ProviderId</th>\n",
       "      <th>ProductId</th>\n",
       "      <th>ProductCategory</th>\n",
       "      <th>ChannelId</th>\n",
       "      <th>Amount</th>\n",
       "      <th>Value</th>\n",
       "      <th>Standard-Deviation-of-Transaction-Amounts</th>\n",
       "      <th>Transaction-Count</th>\n",
       "      <th>Average-Transaction-Amount</th>\n",
       "      <th>Total-Transaction-Amount</th>\n",
       "      <th>Transaction-Year</th>\n",
       "      <th>Transaction-Month</th>\n",
       "      <th>Transaction-Day</th>\n",
       "      <th>Transaction-Hour</th>\n",
       "      <th>PricingStrategy</th>\n",
       "      <th>FraudResult</th>\n",
       "    </tr>\n",
       "  </thead>\n",
       "  <tbody>\n",
       "    <tr>\n",
       "      <th>0</th>\n",
       "      <td>TransactionId_76871</td>\n",
       "      <td>CustomerId_4406</td>\n",
       "      <td>ProviderId_6</td>\n",
       "      <td>ProductId_10</td>\n",
       "      <td>airtime</td>\n",
       "      <td>ChannelId_3</td>\n",
       "      <td>1000.0</td>\n",
       "      <td>1000</td>\n",
       "      <td>2675.218372</td>\n",
       "      <td>119</td>\n",
       "      <td>1713.000000</td>\n",
       "      <td>203847</td>\n",
       "      <td>2018</td>\n",
       "      <td>11</td>\n",
       "      <td>1970-01-01 00:00:00.000000015</td>\n",
       "      <td>2</td>\n",
       "      <td>2</td>\n",
       "      <td>0</td>\n",
       "    </tr>\n",
       "    <tr>\n",
       "      <th>1</th>\n",
       "      <td>TransactionId_73770</td>\n",
       "      <td>CustomerId_4406</td>\n",
       "      <td>ProviderId_4</td>\n",
       "      <td>ProductId_6</td>\n",
       "      <td>financial_services</td>\n",
       "      <td>ChannelId_2</td>\n",
       "      <td>-20.0</td>\n",
       "      <td>20</td>\n",
       "      <td>2675.218372</td>\n",
       "      <td>119</td>\n",
       "      <td>1713.000000</td>\n",
       "      <td>203847</td>\n",
       "      <td>2018</td>\n",
       "      <td>11</td>\n",
       "      <td>1970-01-01 00:00:00.000000015</td>\n",
       "      <td>2</td>\n",
       "      <td>2</td>\n",
       "      <td>0</td>\n",
       "    </tr>\n",
       "    <tr>\n",
       "      <th>2</th>\n",
       "      <td>TransactionId_26203</td>\n",
       "      <td>CustomerId_4683</td>\n",
       "      <td>ProviderId_6</td>\n",
       "      <td>ProductId_1</td>\n",
       "      <td>airtime</td>\n",
       "      <td>ChannelId_3</td>\n",
       "      <td>500.0</td>\n",
       "      <td>500</td>\n",
       "      <td>0.000000</td>\n",
       "      <td>2</td>\n",
       "      <td>500.000000</td>\n",
       "      <td>1000</td>\n",
       "      <td>2018</td>\n",
       "      <td>11</td>\n",
       "      <td>1970-01-01 00:00:00.000000015</td>\n",
       "      <td>2</td>\n",
       "      <td>2</td>\n",
       "      <td>0</td>\n",
       "    </tr>\n",
       "    <tr>\n",
       "      <th>3</th>\n",
       "      <td>TransactionId_380</td>\n",
       "      <td>CustomerId_988</td>\n",
       "      <td>ProviderId_1</td>\n",
       "      <td>ProductId_21</td>\n",
       "      <td>utility_bill</td>\n",
       "      <td>ChannelId_3</td>\n",
       "      <td>20000.0</td>\n",
       "      <td>21800</td>\n",
       "      <td>17691.401706</td>\n",
       "      <td>38</td>\n",
       "      <td>7542.710526</td>\n",
       "      <td>286623</td>\n",
       "      <td>2018</td>\n",
       "      <td>11</td>\n",
       "      <td>1970-01-01 00:00:00.000000015</td>\n",
       "      <td>3</td>\n",
       "      <td>2</td>\n",
       "      <td>0</td>\n",
       "    </tr>\n",
       "    <tr>\n",
       "      <th>4</th>\n",
       "      <td>TransactionId_28195</td>\n",
       "      <td>CustomerId_988</td>\n",
       "      <td>ProviderId_4</td>\n",
       "      <td>ProductId_6</td>\n",
       "      <td>financial_services</td>\n",
       "      <td>ChannelId_2</td>\n",
       "      <td>-644.0</td>\n",
       "      <td>644</td>\n",
       "      <td>17691.401706</td>\n",
       "      <td>38</td>\n",
       "      <td>7542.710526</td>\n",
       "      <td>286623</td>\n",
       "      <td>2018</td>\n",
       "      <td>11</td>\n",
       "      <td>1970-01-01 00:00:00.000000015</td>\n",
       "      <td>3</td>\n",
       "      <td>2</td>\n",
       "      <td>0</td>\n",
       "    </tr>\n",
       "  </tbody>\n",
       "</table>\n",
       "</div>"
      ],
      "text/plain": [
       "         TransactionId       CustomerId    ProviderId     ProductId  \\\n",
       "0  TransactionId_76871  CustomerId_4406  ProviderId_6  ProductId_10   \n",
       "1  TransactionId_73770  CustomerId_4406  ProviderId_4   ProductId_6   \n",
       "2  TransactionId_26203  CustomerId_4683  ProviderId_6   ProductId_1   \n",
       "3    TransactionId_380   CustomerId_988  ProviderId_1  ProductId_21   \n",
       "4  TransactionId_28195   CustomerId_988  ProviderId_4   ProductId_6   \n",
       "\n",
       "      ProductCategory    ChannelId   Amount  Value  \\\n",
       "0             airtime  ChannelId_3   1000.0   1000   \n",
       "1  financial_services  ChannelId_2    -20.0     20   \n",
       "2             airtime  ChannelId_3    500.0    500   \n",
       "3        utility_bill  ChannelId_3  20000.0  21800   \n",
       "4  financial_services  ChannelId_2   -644.0    644   \n",
       "\n",
       "   Standard-Deviation-of-Transaction-Amounts  Transaction-Count  \\\n",
       "0                                2675.218372                119   \n",
       "1                                2675.218372                119   \n",
       "2                                   0.000000                  2   \n",
       "3                               17691.401706                 38   \n",
       "4                               17691.401706                 38   \n",
       "\n",
       "   Average-Transaction-Amount  Total-Transaction-Amount  Transaction-Year  \\\n",
       "0                 1713.000000                    203847              2018   \n",
       "1                 1713.000000                    203847              2018   \n",
       "2                  500.000000                      1000              2018   \n",
       "3                 7542.710526                    286623              2018   \n",
       "4                 7542.710526                    286623              2018   \n",
       "\n",
       "   Transaction-Month               Transaction-Day  Transaction-Hour  \\\n",
       "0                 11 1970-01-01 00:00:00.000000015                 2   \n",
       "1                 11 1970-01-01 00:00:00.000000015                 2   \n",
       "2                 11 1970-01-01 00:00:00.000000015                 2   \n",
       "3                 11 1970-01-01 00:00:00.000000015                 3   \n",
       "4                 11 1970-01-01 00:00:00.000000015                 3   \n",
       "\n",
       "   PricingStrategy  FraudResult  \n",
       "0                2            0  \n",
       "1                2            0  \n",
       "2                2            0  \n",
       "3                2            0  \n",
       "4                2            0  "
      ]
     },
     "execution_count": 17,
     "metadata": {},
     "output_type": "execute_result"
    }
   ],
   "source": []
  },
  {
   "cell_type": "code",
   "execution_count": null,
   "metadata": {},
   "outputs": [],
   "source": []
  }
 ],
 "metadata": {
  "kernelspec": {
   "display_name": "week6",
   "language": "python",
   "name": "python3"
  },
  "language_info": {
   "codemirror_mode": {
    "name": "ipython",
    "version": 3
   },
   "file_extension": ".py",
   "mimetype": "text/x-python",
   "name": "python",
   "nbconvert_exporter": "python",
   "pygments_lexer": "ipython3",
   "version": "3.10.10"
  }
 },
 "nbformat": 4,
 "nbformat_minor": 2
}
