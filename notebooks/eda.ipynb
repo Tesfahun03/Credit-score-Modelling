{
 "cells": [
  {
   "cell_type": "code",
   "execution_count": 1,
   "metadata": {},
   "outputs": [],
   "source": [
    "import pandas as pd\n",
    "import numpy as np\n",
    "import matplotlib.pyplot as plt\n"
   ]
  },
  {
   "cell_type": "code",
   "execution_count": 2,
   "metadata": {},
   "outputs": [],
   "source": [
    "import sys, os\n",
    "sys.path.append(os.path.abspath('..'))"
   ]
  },
  {
   "cell_type": "code",
   "execution_count": 3,
   "metadata": {},
   "outputs": [],
   "source": [
    "df = pd.read_csv('../data/data.csv')"
   ]
  },
  {
   "cell_type": "code",
   "execution_count": 4,
   "metadata": {},
   "outputs": [],
   "source": [
    "%load_ext autoreload\n",
    "%autoreload 2"
   ]
  },
  {
   "cell_type": "code",
   "execution_count": 5,
   "metadata": {},
   "outputs": [],
   "source": [
    "from src.eda import EdaPlot, EdaAnalysis"
   ]
  },
  {
   "cell_type": "code",
   "execution_count": 7,
   "metadata": {},
   "outputs": [],
   "source": [
    "eda = EdaAnalysis(df)\n",
    "plot = EdaPlot(df)"
   ]
  },
  {
   "cell_type": "code",
   "execution_count": 8,
   "metadata": {},
   "outputs": [
    {
     "data": {
      "text/plain": [
       "{'TransactionId': TransactionId\n",
       " TransactionId_35670     1\n",
       " TransactionId_76871     1\n",
       " TransactionId_73770     1\n",
       " TransactionId_26203     1\n",
       " TransactionId_380       1\n",
       "                        ..\n",
       " TransactionId_98367     1\n",
       " TransactionId_64044     1\n",
       " TransactionId_119821    1\n",
       " TransactionId_94363     1\n",
       " TransactionId_93543     1\n",
       " Name: count, Length: 95662, dtype: int64,\n",
       " 'BatchId': BatchId\n",
       " BatchId_67019     28\n",
       " BatchId_51870     16\n",
       " BatchId_113893    14\n",
       " BatchId_127204    12\n",
       " BatchId_116835    10\n",
       "                   ..\n",
       " BatchId_89142      1\n",
       " BatchId_6948       1\n",
       " BatchId_19147      1\n",
       " BatchId_19987      1\n",
       " BatchId_113188     1\n",
       " Name: count, Length: 94809, dtype: int64,\n",
       " 'AccountId': AccountId\n",
       " AccountId_4841    30893\n",
       " AccountId_4249     4457\n",
       " AccountId_4840     1738\n",
       " AccountId_3206     1105\n",
       " AccountId_318      1070\n",
       "                   ...  \n",
       " AccountId_1948        1\n",
       " AccountId_1259        1\n",
       " AccountId_3778        1\n",
       " AccountId_2728        1\n",
       " AccountId_1287        1\n",
       " Name: count, Length: 3633, dtype: int64,\n",
       " 'SubscriptionId': SubscriptionId\n",
       " SubscriptionId_3829    32630\n",
       " SubscriptionId_4429     4457\n",
       " SubscriptionId_1372     1105\n",
       " SubscriptionId_3087     1070\n",
       " SubscriptionId_4346      965\n",
       "                        ...  \n",
       " SubscriptionId_4324        1\n",
       " SubscriptionId_4605        1\n",
       " SubscriptionId_2074        1\n",
       " SubscriptionId_2106        1\n",
       " SubscriptionId_4318        1\n",
       " Name: count, Length: 3627, dtype: int64,\n",
       " 'CustomerId': CustomerId\n",
       " CustomerId_7343    4091\n",
       " CustomerId_3634    2085\n",
       " CustomerId_647     1869\n",
       " CustomerId_1096     784\n",
       " CustomerId_4033     778\n",
       "                    ... \n",
       " CustomerId_4625       1\n",
       " CustomerId_2489       1\n",
       " CustomerId_1356       1\n",
       " CustomerId_654        1\n",
       " CustomerId_1619       1\n",
       " Name: count, Length: 3742, dtype: int64,\n",
       " 'CurrencyCode': CurrencyCode\n",
       " UGX    95662\n",
       " Name: count, dtype: int64,\n",
       " 'ProviderId': ProviderId\n",
       " ProviderId_4    38189\n",
       " ProviderId_6    34186\n",
       " ProviderId_5    14542\n",
       " ProviderId_1     5643\n",
       " ProviderId_3     3084\n",
       " ProviderId_2       18\n",
       " Name: count, dtype: int64,\n",
       " 'ProductId': ProductId\n",
       " ProductId_6     32635\n",
       " ProductId_3     24344\n",
       " ProductId_10    15384\n",
       " ProductId_15    11964\n",
       " ProductId_1      2885\n",
       " ProductId_4      2403\n",
       " ProductId_21     1512\n",
       " ProductId_11     1377\n",
       " ProductId_19      965\n",
       " ProductId_14      789\n",
       " ProductId_13      296\n",
       " ProductId_2       236\n",
       " ProductId_20      216\n",
       " ProductId_8       197\n",
       " ProductId_24      175\n",
       " ProductId_22      112\n",
       " ProductId_7        86\n",
       " ProductId_27       31\n",
       " ProductId_5        25\n",
       " ProductId_9        17\n",
       " ProductId_16       10\n",
       " ProductId_12        2\n",
       " ProductId_23        1\n",
       " Name: count, dtype: int64,\n",
       " 'ProductCategory': ProductCategory\n",
       " financial_services    45405\n",
       " airtime               45027\n",
       " utility_bill           1920\n",
       " data_bundles           1613\n",
       " tv                     1279\n",
       " ticket                  216\n",
       " movies                  175\n",
       " transport                25\n",
       " other                     2\n",
       " Name: count, dtype: int64,\n",
       " 'ChannelId': ChannelId\n",
       " ChannelId_3    56935\n",
       " ChannelId_2    37141\n",
       " ChannelId_5     1048\n",
       " ChannelId_1      538\n",
       " Name: count, dtype: int64,\n",
       " 'TransactionStartTime': TransactionStartTime\n",
       " 2018-12-24T16:30:13Z    17\n",
       " 2018-11-15T07:03:26Z     9\n",
       " 2018-12-07T13:09:44Z     6\n",
       " 2018-12-24T16:30:12Z     6\n",
       " 2018-11-15T07:03:27Z     5\n",
       "                         ..\n",
       " 2019-02-13T09:27:43Z     1\n",
       " 2019-02-13T09:27:56Z     1\n",
       " 2019-02-13T09:28:21Z     1\n",
       " 2019-02-13T09:28:45Z     1\n",
       " 2018-11-15T02:19:08Z     1\n",
       " Name: count, Length: 94556, dtype: int64}"
      ]
     },
     "execution_count": 8,
     "metadata": {},
     "output_type": "execute_result"
    }
   ],
   "source": [
    "eda.get_categorical_distribution()"
   ]
  },
  {
   "cell_type": "code",
   "execution_count": 9,
   "metadata": {},
   "outputs": [
    {
     "data": {
      "text/html": [
       "<div>\n",
       "<style scoped>\n",
       "    .dataframe tbody tr th:only-of-type {\n",
       "        vertical-align: middle;\n",
       "    }\n",
       "\n",
       "    .dataframe tbody tr th {\n",
       "        vertical-align: top;\n",
       "    }\n",
       "\n",
       "    .dataframe thead th {\n",
       "        text-align: right;\n",
       "    }\n",
       "</style>\n",
       "<table border=\"1\" class=\"dataframe\">\n",
       "  <thead>\n",
       "    <tr style=\"text-align: right;\">\n",
       "      <th></th>\n",
       "      <th>CountryCode</th>\n",
       "      <th>Amount</th>\n",
       "      <th>Value</th>\n",
       "      <th>PricingStrategy</th>\n",
       "      <th>FraudResult</th>\n",
       "    </tr>\n",
       "  </thead>\n",
       "  <tbody>\n",
       "    <tr>\n",
       "      <th>CountryCode</th>\n",
       "      <td>NaN</td>\n",
       "      <td>NaN</td>\n",
       "      <td>NaN</td>\n",
       "      <td>NaN</td>\n",
       "      <td>NaN</td>\n",
       "    </tr>\n",
       "    <tr>\n",
       "      <th>Amount</th>\n",
       "      <td>NaN</td>\n",
       "      <td>1.000000</td>\n",
       "      <td>0.989692</td>\n",
       "      <td>-0.061931</td>\n",
       "      <td>0.557370</td>\n",
       "    </tr>\n",
       "    <tr>\n",
       "      <th>Value</th>\n",
       "      <td>NaN</td>\n",
       "      <td>0.989692</td>\n",
       "      <td>1.000000</td>\n",
       "      <td>-0.017020</td>\n",
       "      <td>0.566739</td>\n",
       "    </tr>\n",
       "    <tr>\n",
       "      <th>PricingStrategy</th>\n",
       "      <td>NaN</td>\n",
       "      <td>-0.061931</td>\n",
       "      <td>-0.017020</td>\n",
       "      <td>1.000000</td>\n",
       "      <td>-0.033821</td>\n",
       "    </tr>\n",
       "    <tr>\n",
       "      <th>FraudResult</th>\n",
       "      <td>NaN</td>\n",
       "      <td>0.557370</td>\n",
       "      <td>0.566739</td>\n",
       "      <td>-0.033821</td>\n",
       "      <td>1.000000</td>\n",
       "    </tr>\n",
       "  </tbody>\n",
       "</table>\n",
       "</div>"
      ],
      "text/plain": [
       "                 CountryCode    Amount     Value  PricingStrategy  FraudResult\n",
       "CountryCode              NaN       NaN       NaN              NaN          NaN\n",
       "Amount                   NaN  1.000000  0.989692        -0.061931     0.557370\n",
       "Value                    NaN  0.989692  1.000000        -0.017020     0.566739\n",
       "PricingStrategy          NaN -0.061931 -0.017020         1.000000    -0.033821\n",
       "FraudResult              NaN  0.557370  0.566739        -0.033821     1.000000"
      ]
     },
     "execution_count": 9,
     "metadata": {},
     "output_type": "execute_result"
    }
   ],
   "source": [
    "eda.get_correlation()"
   ]
  },
  {
   "cell_type": "code",
   "execution_count": 10,
   "metadata": {},
   "outputs": [
    {
     "data": {
      "text/plain": [
       "Series([], dtype: int64)"
      ]
     },
     "execution_count": 10,
     "metadata": {},
     "output_type": "execute_result"
    }
   ],
   "source": [
    "eda.get_missing_values()"
   ]
  },
  {
   "cell_type": "code",
   "execution_count": 21,
   "metadata": {},
   "outputs": [
    {
     "data": {
      "text/html": [
       "<div>\n",
       "<style scoped>\n",
       "    .dataframe tbody tr th:only-of-type {\n",
       "        vertical-align: middle;\n",
       "    }\n",
       "\n",
       "    .dataframe tbody tr th {\n",
       "        vertical-align: top;\n",
       "    }\n",
       "\n",
       "    .dataframe thead th {\n",
       "        text-align: right;\n",
       "    }\n",
       "</style>\n",
       "<table border=\"1\" class=\"dataframe\">\n",
       "  <thead>\n",
       "    <tr style=\"text-align: right;\">\n",
       "      <th></th>\n",
       "      <th>CountryCode</th>\n",
       "      <th>Amount</th>\n",
       "      <th>Value</th>\n",
       "      <th>PricingStrategy</th>\n",
       "      <th>FraudResult</th>\n",
       "    </tr>\n",
       "  </thead>\n",
       "  <tbody>\n",
       "    <tr>\n",
       "      <th>count</th>\n",
       "      <td>95662.0</td>\n",
       "      <td>9.566200e+04</td>\n",
       "      <td>9.566200e+04</td>\n",
       "      <td>95662.000000</td>\n",
       "      <td>95662.000000</td>\n",
       "    </tr>\n",
       "    <tr>\n",
       "      <th>mean</th>\n",
       "      <td>256.0</td>\n",
       "      <td>6.717846e+03</td>\n",
       "      <td>9.900584e+03</td>\n",
       "      <td>2.255974</td>\n",
       "      <td>0.002018</td>\n",
       "    </tr>\n",
       "    <tr>\n",
       "      <th>std</th>\n",
       "      <td>0.0</td>\n",
       "      <td>1.233068e+05</td>\n",
       "      <td>1.231221e+05</td>\n",
       "      <td>0.732924</td>\n",
       "      <td>0.044872</td>\n",
       "    </tr>\n",
       "    <tr>\n",
       "      <th>min</th>\n",
       "      <td>256.0</td>\n",
       "      <td>-1.000000e+06</td>\n",
       "      <td>2.000000e+00</td>\n",
       "      <td>0.000000</td>\n",
       "      <td>0.000000</td>\n",
       "    </tr>\n",
       "    <tr>\n",
       "      <th>25%</th>\n",
       "      <td>256.0</td>\n",
       "      <td>-5.000000e+01</td>\n",
       "      <td>2.750000e+02</td>\n",
       "      <td>2.000000</td>\n",
       "      <td>0.000000</td>\n",
       "    </tr>\n",
       "    <tr>\n",
       "      <th>50%</th>\n",
       "      <td>256.0</td>\n",
       "      <td>1.000000e+03</td>\n",
       "      <td>1.000000e+03</td>\n",
       "      <td>2.000000</td>\n",
       "      <td>0.000000</td>\n",
       "    </tr>\n",
       "    <tr>\n",
       "      <th>75%</th>\n",
       "      <td>256.0</td>\n",
       "      <td>2.800000e+03</td>\n",
       "      <td>5.000000e+03</td>\n",
       "      <td>2.000000</td>\n",
       "      <td>0.000000</td>\n",
       "    </tr>\n",
       "    <tr>\n",
       "      <th>max</th>\n",
       "      <td>256.0</td>\n",
       "      <td>9.880000e+06</td>\n",
       "      <td>9.880000e+06</td>\n",
       "      <td>4.000000</td>\n",
       "      <td>1.000000</td>\n",
       "    </tr>\n",
       "  </tbody>\n",
       "</table>\n",
       "</div>"
      ],
      "text/plain": [
       "       CountryCode        Amount         Value  PricingStrategy   FraudResult\n",
       "count      95662.0  9.566200e+04  9.566200e+04     95662.000000  95662.000000\n",
       "mean         256.0  6.717846e+03  9.900584e+03         2.255974      0.002018\n",
       "std            0.0  1.233068e+05  1.231221e+05         0.732924      0.044872\n",
       "min          256.0 -1.000000e+06  2.000000e+00         0.000000      0.000000\n",
       "25%          256.0 -5.000000e+01  2.750000e+02         2.000000      0.000000\n",
       "50%          256.0  1.000000e+03  1.000000e+03         2.000000      0.000000\n",
       "75%          256.0  2.800000e+03  5.000000e+03         2.000000      0.000000\n",
       "max          256.0  9.880000e+06  9.880000e+06         4.000000      1.000000"
      ]
     },
     "execution_count": 21,
     "metadata": {},
     "output_type": "execute_result"
    }
   ],
   "source": [
    "eda.get_descriptive_statistics()"
   ]
  },
  {
   "cell_type": "code",
   "execution_count": 11,
   "metadata": {},
   "outputs": [
    {
     "data": {
      "image/png": "[encoded data removed]",
      "text/plain": [
       "<Figure size 640x480 with 1 Axes>"
      ]
     },
     "metadata": {},
     "output_type": "display_data"
    }
   ],
   "source": [
    "plot.plot_boxplot('PricingStrategy')"
   ]
  },
  {
   "cell_type": "code",
   "execution_count": 14,
   "metadata": {},
   "outputs": [
    {
     "data": {
      "text/plain": [
       "TransactionId            object\n",
       "BatchId                  object\n",
       "AccountId                object\n",
       "SubscriptionId           object\n",
       "CustomerId               object\n",
       "CurrencyCode             object\n",
       "CountryCode               int64\n",
       "ProviderId               object\n",
       "ProductId                object\n",
       "ProductCategory          object\n",
       "ChannelId                object\n",
       "Amount                  float64\n",
       "Value                     int64\n",
       "TransactionStartTime     object\n",
       "PricingStrategy           int64\n",
       "FraudResult               int64\n",
       "dtype: object"
      ]
     },
     "execution_count": 14,
     "metadata": {},
     "output_type": "execute_result"
    }
   ],
   "source": [
    "df.dtypes"
   ]
  },
  {
   "cell_type": "code",
   "execution_count": 17,
   "metadata": {},
   "outputs": [
    {
     "data": {
      "image/png": "[encoded data removed]",
      "text/plain": [
       "<Figure size 1000x600 with 1 Axes>"
      ]
     },
     "metadata": {},
     "output_type": "display_data"
    }
   ],
   "source": [
    "plot.plot_numerical_distribution('Value')"
   ]
  },
  {
   "cell_type": "code",
   "execution_count": 18,
   "metadata": {},
   "outputs": [
    {
     "data": {
      "image/png": "[encoded data removed]",
      "text/plain": [
       "<Figure size 1000x600 with 1 Axes>"
      ]
     },
     "metadata": {},
     "output_type": "display_data"
    }
   ],
   "source": [
    "plot.plot_categorical_distribution('ProviderId')"
   ]
  },
  {
   "cell_type": "code",
   "execution_count": 19,
   "metadata": {},
   "outputs": [
    {
     "data": {
      "image/png": "[encoded data removed]",
      "text/plain": [
       "<Figure size 1000x600 with 1 Axes>"
      ]
     },
     "metadata": {},
     "output_type": "display_data"
    }
   ],
   "source": [
    "plot.plot_categorical_distribution('ChannelId')"
   ]
  },
  {
   "cell_type": "code",
   "execution_count": null,
   "metadata": {},
   "outputs": [],
   "source": []
  },
  {
   "cell_type": "code",
   "execution_count": null,
   "metadata": {},
   "outputs": [],
   "source": []
  },
  {
   "cell_type": "code",
   "execution_count": null,
   "metadata": {},
   "outputs": [],
   "source": []
  },
  {
   "cell_type": "code",
   "execution_count": null,
   "metadata": {},
   "outputs": [],
   "source": []
  }
 ],
 "metadata": {
  "kernelspec": {
   "display_name": "week6",
   "language": "python",
   "name": "python3"
  },
  "language_info": {
   "codemirror_mode": {
    "name": "ipython",
    "version": 3
   },
   "file_extension": ".py",
   "mimetype": "text/x-python",
   "name": "python",
   "nbconvert_exporter": "python",
   "pygments_lexer": "ipython3",
   "version": "3.10.10"
  }
 },
 "nbformat": 4,
 "nbformat_minor": 2
}
